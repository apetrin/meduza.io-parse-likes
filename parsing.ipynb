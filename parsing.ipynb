{
 "cells": [
  {
   "cell_type": "markdown",
   "metadata": {},
   "source": [
    "## Meduza.io parsing"
   ]
  },
  {
   "cell_type": "code",
   "execution_count": 4,
   "metadata": {
    "collapsed": true
   },
   "outputs": [],
   "source": [
    "import requests\n",
    "import json\n",
    "import time\n",
    "import os"
   ]
  },
  {
   "cell_type": "code",
   "execution_count": 5,
   "metadata": {
    "collapsed": true
   },
   "outputs": [],
   "source": [
    "%run tools.py"
   ]
  },
  {
   "cell_type": "code",
   "execution_count": 6,
   "metadata": {
    "collapsed": true
   },
   "outputs": [],
   "source": [
    "stream = 'https://meduza.io/api/v3/search?chrono=news&page={page}&per_page=30&locale=ru'\n",
    "social = 'https://meduza.io/api/v3/social'\n",
    "USER_AGENT = 'Mozilla/5.0 (Windows NT 6.1; WOW64) AppleWebKit/537.36 (KHTML, like Gecko) Chrome/47.0.2526.111 YaBrowser/16.2.0.3539 Safari/537.36'\n",
    "headers = {'User-Agent' : USER_AGENT }"
   ]
  },
  {
   "cell_type": "code",
   "execution_count": 7,
   "metadata": {
    "collapsed": false
   },
   "outputs": [],
   "source": [
    "def get_page_data(page):\n",
    "    ans = requests.get(stream.format(page = page), headers=headers).json()\n",
    "    ans_social = requests.get(social, params = {'links' : json.dumps(ans['collection'])}, headers=headers).json()\n",
    "    documents = ans['documents']\n",
    "    for url, data in documents.iteritems():\n",
    "        try:\n",
    "            data['social'] = ans_social[url]['stats']\n",
    "        except KeyError:\n",
    "            continue\n",
    "    with open('res_dump/page{pagenum:03d}_{timestamp}.json'.format(\n",
    "        pagenum = page, timestamp = int(time.time())\n",
    "    ), 'wb') as f:\n",
    "        json.dump(documents, f, indent=2)"
   ]
  },
  {
   "cell_type": "code",
   "execution_count": null,
   "metadata": {
    "collapsed": true
   },
   "outputs": [],
   "source": []
  },
  {
   "cell_type": "code",
   "execution_count": 8,
   "metadata": {
    "collapsed": false
   },
   "outputs": [
    {
     "name": "stdout",
     "output_type": "stream",
     "text": [
      "Starting job # 0 in a separate thread.\n",
      "Starting job # 2 in a separate thread.\n",
      "Starting job # 3 in a separate thread.\n",
      "Starting job # 4 in a separate thread.\n"
     ]
    }
   ],
   "source": [
    "%job [get_page_data(page) for page in log_progress(range(200))]\n",
    "%job [get_page_data(page) for page in log_progress(range(200,400))]\n",
    "%job [get_page_data(page) for page in log_progress(range(400,600))]\n",
    "%job [get_page_data(page) for page in log_progress(range(600,752))]"
   ]
  },
  {
   "cell_type": "code",
   "execution_count": 10,
   "metadata": {
    "collapsed": false
   },
   "outputs": [
    {
     "name": "stdout",
     "output_type": "stream",
     "text": [
      "Running jobs:\n",
      "0 : [get_page_data(page) for page in log_progress(range(200))]\n",
      "2 : [get_page_data(page) for page in log_progress(range(200,400))]\n",
      "3 : [get_page_data(page) for page in log_progress(range(400,600))]\n",
      "4 : [get_page_data(page) for page in log_progress(range(600,752))]\n",
      "\n"
     ]
    }
   ],
   "source": [
    "jobs.status()"
   ]
  },
  {
   "cell_type": "code",
   "execution_count": null,
   "metadata": {
    "collapsed": true
   },
   "outputs": [],
   "source": []
  },
  {
   "cell_type": "code",
   "execution_count": null,
   "metadata": {
    "collapsed": true
   },
   "outputs": [],
   "source": []
  },
  {
   "cell_type": "code",
   "execution_count": null,
   "metadata": {
    "collapsed": true
   },
   "outputs": [],
   "source": []
  },
  {
   "cell_type": "code",
   "execution_count": null,
   "metadata": {
    "collapsed": true
   },
   "outputs": [],
   "source": []
  },
  {
   "cell_type": "code",
   "execution_count": null,
   "metadata": {
    "collapsed": true
   },
   "outputs": [],
   "source": []
  },
  {
   "cell_type": "code",
   "execution_count": null,
   "metadata": {
    "collapsed": true
   },
   "outputs": [],
   "source": []
  },
  {
   "cell_type": "code",
   "execution_count": null,
   "metadata": {
    "collapsed": false
   },
   "outputs": [],
   "source": [
    "results_combined = {}\n",
    "for f in os.listdir(\"res_dump\"):\n",
    "    if f.endswith(\".json\"):\n",
    "        results_combined.update(json.load(open(os.path.join('res_dump', f))))\n",
    "\n"
   ]
  },
  {
   "cell_type": "code",
   "execution_count": null,
   "metadata": {
    "collapsed": false
   },
   "outputs": [],
   "source": [
    "json.dumps(results_combined, open('database.json', 'w'))"
   ]
  },
  {
   "cell_type": "code",
   "execution_count": null,
   "metadata": {
    "collapsed": true
   },
   "outputs": [],
   "source": []
  }
 ],
 "metadata": {
  "kernelspec": {
   "display_name": "Python 2",
   "language": "python",
   "name": "python2"
  },
  "language_info": {
   "codemirror_mode": {
    "name": "ipython",
    "version": 2
   },
   "file_extension": ".py",
   "mimetype": "text/x-python",
   "name": "python",
   "nbconvert_exporter": "python",
   "pygments_lexer": "ipython2",
   "version": "2.7.11"
  }
 },
 "nbformat": 4,
 "nbformat_minor": 0
}
